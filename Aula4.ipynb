{
  "nbformat": 4,
  "nbformat_minor": 0,
  "metadata": {
    "colab": {
      "provenance": [],
      "authorship_tag": "ABX9TyOs3Y+MAamb/dkjcsQTa5vT",
      "include_colab_link": true
    },
    "kernelspec": {
      "name": "python3",
      "display_name": "Python 3"
    },
    "language_info": {
      "name": "python"
    }
  },
  "cells": [
    {
      "cell_type": "markdown",
      "metadata": {
        "id": "view-in-github",
        "colab_type": "text"
      },
      "source": [
        "<a href=\"https://colab.research.google.com/github/Juailson/python_web/blob/main/Aula4.ipynb\" target=\"_parent\"><img src=\"https://colab.research.google.com/assets/colab-badge.svg\" alt=\"Open In Colab\"/></a>"
      ]
    },
    {
      "cell_type": "code",
      "execution_count": null,
      "metadata": {
        "colab": {
          "base_uri": "https://localhost:8080/"
        },
        "id": "ZdcnuUWuM5sY",
        "outputId": "19050567-eff1-47c1-abfc-7a4ec2e55adc"
      },
      "outputs": [
        {
          "output_type": "stream",
          "name": "stdout",
          "text": [
            "Estamos no elemento 1\n",
            "Estamos no elemento 2\n",
            "Estamos no elemento 3\n",
            "Estamos no elemento 4\n",
            "Estamos no elemento 5\n",
            "Estamos no elemento 6\n"
          ]
        }
      ],
      "source": [
        "#AULA 4 -  LOOPS  - JUAILSON FONSECA Prof. Camila\n",
        "#------------------------------------------------\n",
        "\n",
        "for elemento in [1,2,3,4,5,6]:\n",
        "  print (\"Estamos no elemento\", elemento)"
      ]
    },
    {
      "cell_type": "markdown",
      "source": [
        "AULA DEVE SER GRAVADA NO GITHUB\n"
      ],
      "metadata": {
        "id": "HSWcOr0cPFqh"
      }
    },
    {
      "cell_type": "code",
      "source": [
        "for elemento in 'STRING':\n",
        "   print ('Estamos no elemento', elemento)"
      ],
      "metadata": {
        "colab": {
          "base_uri": "https://localhost:8080/"
        },
        "id": "b9owz9KBNOsn",
        "outputId": "4f8708b7-c9c2-46bf-9577-29f7495bedea"
      },
      "execution_count": null,
      "outputs": [
        {
          "output_type": "stream",
          "name": "stdout",
          "text": [
            "Estamos no elemento S\n",
            "Estamos no elemento T\n",
            "Estamos no elemento R\n",
            "Estamos no elemento I\n",
            "Estamos no elemento N\n",
            "Estamos no elemento G\n"
          ]
        }
      ]
    },
    {
      "cell_type": "code",
      "source": [
        "for elemento in range(len(\"STRING\")):\n",
        "   print ('Estamos no elemento', elemento)"
      ],
      "metadata": {
        "colab": {
          "base_uri": "https://localhost:8080/"
        },
        "id": "yYaE0KbhOC8z",
        "outputId": "076a43b5-e9f6-4c23-9fa2-16aa331573e1"
      },
      "execution_count": null,
      "outputs": [
        {
          "output_type": "stream",
          "name": "stdout",
          "text": [
            "Estamos no elemento 0\n",
            "Estamos no elemento 1\n",
            "Estamos no elemento 2\n",
            "Estamos no elemento 3\n",
            "Estamos no elemento 4\n",
            "Estamos no elemento 5\n"
          ]
        }
      ]
    },
    {
      "cell_type": "markdown",
      "source": [],
      "metadata": {
        "id": "aOgUXgFdOGm6"
      }
    },
    {
      "cell_type": "code",
      "source": [
        "#WHILE\n",
        "produto = 0\n",
        "while produto < 4:\n",
        "  p = str (input('Digite o nome do produto: '))\n",
        "  produto = produto + 1 # produto +=1  forma do python\n",
        "print ('FIM')\n",
        "\n",
        " "
      ],
      "metadata": {
        "id": "jSnp4LSYOzrz"
      },
      "execution_count": null,
      "outputs": []
    },
    {
      "cell_type": "code",
      "source": [
        "elemento = 0\n",
        "while elemento <= len([1,2,3,4,5,6]):\n",
        "  print ('Estamos no elemento:', elemento)\n",
        "  elemento +=1\n"
      ],
      "metadata": {
        "id": "02Zs8K8TQGYd"
      },
      "execution_count": null,
      "outputs": []
    },
    {
      "cell_type": "code",
      "source": [
        "s = 'STRING'\n",
        "indice = 0\n",
        "while indice in range (len (s)):\n",
        "  print ('Estamos no elemento:', s[indice]) # criou um array com a palavra\n",
        "  indice +=1"
      ],
      "metadata": {
        "id": "KoEuucT_QvOE"
      },
      "execution_count": null,
      "outputs": []
    },
    {
      "cell_type": "code",
      "source": [
        "palavra = 'tranquilo'\n",
        "for indice, letra in enumerate (palavra):\n",
        "  print (indice, letra)"
      ],
      "metadata": {
        "id": "YsEEdCz6Reun"
      },
      "execution_count": null,
      "outputs": []
    },
    {
      "cell_type": "code",
      "source": [
        "''' \n",
        "sair=True\n",
        "while sair in True:\n",
        "  sair = input (\"Digite False para sair.\")\n",
        "  sair=False\n",
        "'''"
      ],
      "metadata": {
        "id": "dxdjKd7LTDmM"
      },
      "execution_count": null,
      "outputs": []
    },
    {
      "cell_type": "code",
      "source": [
        "lista = ['eat', 'comer']\n",
        "objeto1 = enumerate (lista)\n",
        "objeto2 = enumerate (palavra)\n",
        "print ('Tipo:', type (objeto1))\n",
        "print (list(enumerate(palavra,2)))"
      ],
      "metadata": {
        "id": "h1wrNiHsT9xD"
      },
      "execution_count": null,
      "outputs": []
    },
    {
      "cell_type": "code",
      "source": [
        "#mudando a indexeção\n",
        "print (list(enumerate(palavra)))\n"
      ],
      "metadata": {
        "id": "7HfJBmI-VL64"
      },
      "execution_count": null,
      "outputs": []
    },
    {
      "cell_type": "code",
      "source": [
        "i=0\n",
        "s= 'viva o python' # 13 vezes\n",
        "for ch in s:\n",
        "  i+=1\n",
        "  print ('Oi', i)"
      ],
      "metadata": {
        "id": "as_99SVKV2Kj"
      },
      "execution_count": null,
      "outputs": []
    },
    {
      "cell_type": "code",
      "source": [
        "i=0\n",
        "#   0123456789012\n",
        "#      |||||\n",
        "s= 'viva o python' # 13 vezes\n",
        "for ch in s[3:8]:\n",
        "  i+=1\n",
        "  print ('Oi', i)"
      ],
      "metadata": {
        "id": "RpAJ8wxtV_tk"
      },
      "execution_count": null,
      "outputs": []
    },
    {
      "cell_type": "code",
      "source": [
        "#pedir 10 número e contar quanto são pares e impares\n",
        "num = 0\n",
        "numero = 0\n",
        "par = 0\n",
        "impar = 0\n",
        "while numero <= 9:\n",
        "  num = int (input('Digite um número: '))\n",
        "  numero +=1\n",
        "  resto = num % 2\n",
        "  if (resto == 0):\n",
        "     par +=1\n",
        "  else:\n",
        "    impar +=1\n",
        "\n",
        "\n",
        "print ('TOTAIS DE ', 'pares:', par, 'impares', impar)"
      ],
      "metadata": {
        "id": "cQqZG7YZWwxo",
        "colab": {
          "base_uri": "https://localhost:8080/"
        },
        "outputId": "b9aad1d3-29d6-4de4-b3ee-e2ed46221994"
      },
      "execution_count": 31,
      "outputs": [
        {
          "output_type": "stream",
          "name": "stdout",
          "text": [
            "Digite um número: 5\n",
            "Digite um número: 5\n",
            "Digite um número: 5\n",
            "Digite um número: 1\n",
            "Digite um número: 1\n",
            "Digite um número: 2\n",
            "Digite um número: 6\n",
            "Digite um número: 4\n",
            "Digite um número: 8\n",
            "Digite um número: 2\n",
            "TOTAIS DE  pares: 5 impares 5\n"
          ]
        }
      ]
    },
    {
      "cell_type": "code",
      "source": [
        "par = 0\n",
        "impar = 0\n",
        "for n in range(10):\n",
        "  n = int (input('Digite um número: '))\n",
        "  resto = n % 2\n",
        "  if (resto == 0):\n",
        "     par +=1\n",
        "  else:\n",
        "    impar +=1\n",
        "\n",
        "\n",
        "print ('TOTAIS DE ', 'pares:', par, 'impares', impar)   "
      ],
      "metadata": {
        "id": "86WB0f1nX96J"
      },
      "execution_count": null,
      "outputs": []
    },
    {
      "cell_type": "code",
      "source": [
        "#Convite para festa pet\n",
        "for nome in ['reginaldo', 'Gisele', 'Scoob', 'Marlene', 'Zezinho', 'Cibele']:\n",
        "    convite = ('Oi ' +  nome + '! Por favor, venha para o sábado pet em minha casa!')\n",
        "    print (convite)"
      ],
      "metadata": {
        "id": "ErnkGMmadDAY",
        "colab": {
          "base_uri": "https://localhost:8080/"
        },
        "outputId": "02f59d92-f24d-4233-c68a-b4a36b7b6995"
      },
      "execution_count": 7,
      "outputs": [
        {
          "output_type": "stream",
          "name": "stdout",
          "text": [
            "Oi reginaldo! Por favor, venha para o sábado pet em minha casa!\n",
            "Oi Gisele! Por favor, venha para o sábado pet em minha casa!\n",
            "Oi Scoob! Por favor, venha para o sábado pet em minha casa!\n",
            "Oi Marlene! Por favor, venha para o sábado pet em minha casa!\n",
            "Oi Zezinho! Por favor, venha para o sábado pet em minha casa!\n",
            "Oi Cibele! Por favor, venha para o sábado pet em minha casa!\n"
          ]
        }
      ]
    },
    {
      "cell_type": "code",
      "source": [
        "#prática\n",
        "for um_valor in range(10):\n",
        "  print (um_valor)"
      ],
      "metadata": {
        "id": "cm2tzq_uhX-f",
        "colab": {
          "base_uri": "https://localhost:8080/"
        },
        "outputId": "eae64ff4-860c-4162-87f8-6b54ca8c3e1a"
      },
      "execution_count": 12,
      "outputs": [
        {
          "output_type": "stream",
          "name": "stdout",
          "text": [
            "0\n",
            "1\n",
            "2\n",
            "3\n",
            "4\n",
            "5\n",
            "6\n",
            "7\n",
            "8\n",
            "9\n"
          ]
        }
      ]
    },
    {
      "cell_type": "code",
      "source": [
        "#Prática Quantas letras \"s\" \n",
        "texto = '\"Educação não transforma o mundo. Educação numa pessoas. Pessoas transformam o mundo\",(Paulo Freire)'\n",
        "elemento = 0\n",
        "while elemento <= len(texto):\n",
        "  print ('Estamos no elemento:', texto)\n",
        "  elemento +=1 "
      ],
      "metadata": {
        "id": "RyAPPEkFiwyi"
      },
      "execution_count": null,
      "outputs": []
    },
    {
      "cell_type": "code",
      "source": [
        "cont=0\n",
        "for elemento in texto:\n",
        " #  print ('Estamos no elemento', elemento)\n",
        "   if (elemento == \"s\"): # N Ã O    E S Q U E C E R  OS D O I S PRONTOS após o )\n",
        "      cont+=1\n",
        "print ('Tem ', cont, 'letra s')\n",
        "\n",
        "      "
      ],
      "metadata": {
        "colab": {
          "base_uri": "https://localhost:8080/"
        },
        "id": "gvZJLuMckd5W",
        "outputId": "5fc5e682-a738-46da-d6cc-be94a99d288c"
      },
      "execution_count": 20,
      "outputs": [
        {
          "output_type": "stream",
          "name": "stdout",
          "text": [
            "Tem  8 letra s\n"
          ]
        }
      ]
    },
    {
      "cell_type": "code",
      "source": [
        "#python simples assim...lindo\n",
        "lista = list(texto)\n",
        "lista.count('s')"
      ],
      "metadata": {
        "colab": {
          "base_uri": "https://localhost:8080/"
        },
        "id": "zmbu556Tk7xv",
        "outputId": "2ebdfbe4-b106-4957-e7fd-13b64cf037c7"
      },
      "execution_count": 32,
      "outputs": [
        {
          "output_type": "execute_result",
          "data": {
            "text/plain": [
              "8"
            ]
          },
          "metadata": {},
          "execution_count": 32
        }
      ]
    },
    {
      "cell_type": "code",
      "source": [
        "#Pergunta o dia da semana\n",
        "diaSemana = ('1=Domingo', '2=Segunda-feira', '3=Terça-Feira', '4=Quarta-Feira', '5=Quinta-Feira', '6=Sexta-Feira', '7=Sábado')\n",
        "print (diaSemana)\n",
        "resposta = ' '\n",
        "while resposta != '0':\n",
        "  resposta = str (input ('Digite o Dia da Semana(0=sair):'))\n",
        "  if (resposta == 'Domingo' or resposta == '1' or resposta == 'Sábado' or resposta == '7'):\n",
        "     print ('Final de Semana')  \n",
        "  elif resposta == '0':\n",
        "       print ('fim')\n",
        "  else:\n",
        "   print ('Dia de semana')  \n"
      ],
      "metadata": {
        "colab": {
          "base_uri": "https://localhost:8080/"
        },
        "id": "M1_tNQVonR15",
        "outputId": "db61736b-241a-4249-e798-7657ad1155be"
      },
      "execution_count": 48,
      "outputs": [
        {
          "output_type": "stream",
          "name": "stdout",
          "text": [
            "('1=Domingo', '2=Segunda-feira', '3=Terça-Feira', '4=Quarta-Feira', '5=Quinta-Feira', '6=Sexta-Feira', '7=Sábado')\n",
            "Digite o Dia da Semana(0=sair):1\n",
            "Final de Semana\n",
            "Digite o Dia da Semana(0=sair):2\n",
            "Dia de semana\n",
            "Digite o Dia da Semana(0=sair):Domingo\n",
            "Final de Semana\n",
            "Digite o Dia da Semana(0=sair):0\n",
            "fim\n"
          ]
        }
      ]
    },
    {
      "cell_type": "code",
      "source": [
        "#Uma lista com range e imprimir apenas os números pares. Os impares multiplicar por ele mesmos e mostrar\n",
        "n =  int(input('Digite um número?'))\n",
        "for x in range(n):\n",
        "   if (x % 2) == 0:\n",
        "      x=[x]\n",
        "      print ([x])\n",
        "   else:\n",
        "      impar = x * x\n",
        "      print (impar)\n",
        "     \n",
        "\n"
      ],
      "metadata": {
        "colab": {
          "base_uri": "https://localhost:8080/"
        },
        "id": "F4TAi3Y3qi6C",
        "outputId": "a056a508-a87e-471c-e77f-4d3c163dc842"
      },
      "execution_count": 51,
      "outputs": [
        {
          "output_type": "stream",
          "name": "stdout",
          "text": [
            "Digite um número?4\n",
            "[[0]]\n",
            "1\n",
            "[[2]]\n",
            "9\n"
          ]
        }
      ]
    },
    {
      "cell_type": "code",
      "source": [
        "\n"
      ],
      "metadata": {
        "id": "wTx7MrPgwdhL"
      },
      "execution_count": null,
      "outputs": []
    }
  ]
}