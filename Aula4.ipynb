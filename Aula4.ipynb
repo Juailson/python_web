{
  "nbformat": 4,
  "nbformat_minor": 0,
  "metadata": {
    "colab": {
      "provenance": [],
      "authorship_tag": "ABX9TyOUJi3GC3DcT2N8bDE+0lTr",
      "include_colab_link": true
    },
    "kernelspec": {
      "name": "python3",
      "display_name": "Python 3"
    },
    "language_info": {
      "name": "python"
    }
  },
  "cells": [
    {
      "cell_type": "markdown",
      "metadata": {
        "id": "view-in-github",
        "colab_type": "text"
      },
      "source": [
        "<a href=\"https://colab.research.google.com/github/Juailson/python_web/blob/main/Aula4.ipynb\" target=\"_parent\"><img src=\"https://colab.research.google.com/assets/colab-badge.svg\" alt=\"Open In Colab\"/></a>"
      ]
    },
    {
      "cell_type": "code",
      "execution_count": 1,
      "metadata": {
        "colab": {
          "base_uri": "https://localhost:8080/"
        },
        "id": "ZdcnuUWuM5sY",
        "outputId": "19050567-eff1-47c1-abfc-7a4ec2e55adc"
      },
      "outputs": [
        {
          "output_type": "stream",
          "name": "stdout",
          "text": [
            "Estamos no elemento 1\n",
            "Estamos no elemento 2\n",
            "Estamos no elemento 3\n",
            "Estamos no elemento 4\n",
            "Estamos no elemento 5\n",
            "Estamos no elemento 6\n"
          ]
        }
      ],
      "source": [
        "#AULA 4 -  LOOPS  - JUAILSON FONSECA Prof. Camila\n",
        "#------------------------------------------------\n",
        "\n",
        "for elemento in [1,2,3,4,5,6]:\n",
        "  print (\"Estamos no elemento\", elemento)"
      ]
    },
    {
      "cell_type": "markdown",
      "source": [
        "AULA DEVE SER GRAVADA NO GITHUB\n"
      ],
      "metadata": {
        "id": "HSWcOr0cPFqh"
      }
    },
    {
      "cell_type": "code",
      "source": [
        "for elemento in 'STRING':\n",
        "   print ('Estamos no elemento', elemento)"
      ],
      "metadata": {
        "colab": {
          "base_uri": "https://localhost:8080/"
        },
        "id": "b9owz9KBNOsn",
        "outputId": "4f8708b7-c9c2-46bf-9577-29f7495bedea"
      },
      "execution_count": 2,
      "outputs": [
        {
          "output_type": "stream",
          "name": "stdout",
          "text": [
            "Estamos no elemento S\n",
            "Estamos no elemento T\n",
            "Estamos no elemento R\n",
            "Estamos no elemento I\n",
            "Estamos no elemento N\n",
            "Estamos no elemento G\n"
          ]
        }
      ]
    },
    {
      "cell_type": "code",
      "source": [
        "for elemento in range(len(\"STRING\")):\n",
        "   print ('Estamos no elemento', elemento)"
      ],
      "metadata": {
        "colab": {
          "base_uri": "https://localhost:8080/"
        },
        "id": "yYaE0KbhOC8z",
        "outputId": "076a43b5-e9f6-4c23-9fa2-16aa331573e1"
      },
      "execution_count": 3,
      "outputs": [
        {
          "output_type": "stream",
          "name": "stdout",
          "text": [
            "Estamos no elemento 0\n",
            "Estamos no elemento 1\n",
            "Estamos no elemento 2\n",
            "Estamos no elemento 3\n",
            "Estamos no elemento 4\n",
            "Estamos no elemento 5\n"
          ]
        }
      ]
    },
    {
      "cell_type": "markdown",
      "source": [],
      "metadata": {
        "id": "aOgUXgFdOGm6"
      }
    },
    {
      "cell_type": "code",
      "source": [
        "#WHILE\n",
        "produto = 0\n",
        "while produto < 4:\n",
        "  p = str (input('Digite o nome do produto: '))\n",
        "  produto = produto + 1 # produto +=1  forma do python\n",
        "print ('FIM')\n",
        "\n",
        " "
      ],
      "metadata": {
        "id": "jSnp4LSYOzrz"
      },
      "execution_count": null,
      "outputs": []
    },
    {
      "cell_type": "code",
      "source": [
        "elemento = 0\n",
        "while elemento <= len([1,2,3,4,5,6]):\n",
        "  print ('Estamos no elemento:', elemento)\n",
        "  elemento +=1\n"
      ],
      "metadata": {
        "id": "02Zs8K8TQGYd"
      },
      "execution_count": null,
      "outputs": []
    },
    {
      "cell_type": "code",
      "source": [
        "s = 'STRING'\n",
        "indice = 0\n",
        "while indice in range (len (s)):\n",
        "  print ('Estamos no elemento:', s[indice]) # criou um array com a palavra\n",
        "  indice +=1"
      ],
      "metadata": {
        "id": "KoEuucT_QvOE"
      },
      "execution_count": null,
      "outputs": []
    },
    {
      "cell_type": "code",
      "source": [
        "palavra = 'tranquilo'\n",
        "for indice, letra in enumerate (palavra):\n",
        "  print (indice, letra)"
      ],
      "metadata": {
        "id": "YsEEdCz6Reun"
      },
      "execution_count": null,
      "outputs": []
    },
    {
      "cell_type": "code",
      "source": [
        "''' \n",
        "sair=True\n",
        "while sair in True:\n",
        "  sair = input (\"Digite False para sair.\")\n",
        "  sair=False\n",
        "'''"
      ],
      "metadata": {
        "id": "dxdjKd7LTDmM"
      },
      "execution_count": null,
      "outputs": []
    },
    {
      "cell_type": "code",
      "source": [
        "lista = ['eat', 'comer']\n",
        "objeto1 = enumerate (lista)\n",
        "objeto2 = enumerate (palavra)\n",
        "print ('Tipo:', type (objeto1))\n",
        "print (list(enumerate(palavra,2)))"
      ],
      "metadata": {
        "id": "h1wrNiHsT9xD"
      },
      "execution_count": null,
      "outputs": []
    },
    {
      "cell_type": "code",
      "source": [
        "#mudando a indexeção\n",
        "print (list(enumerate(palavra)))\n"
      ],
      "metadata": {
        "id": "7HfJBmI-VL64"
      },
      "execution_count": null,
      "outputs": []
    },
    {
      "cell_type": "code",
      "source": [
        "i=0\n",
        "s= 'viva o python' # 13 vezes\n",
        "for ch in s:\n",
        "  i+=1\n",
        "  print ('Oi', i)"
      ],
      "metadata": {
        "id": "as_99SVKV2Kj"
      },
      "execution_count": null,
      "outputs": []
    },
    {
      "cell_type": "code",
      "source": [
        "i=0\n",
        "#   0123456789012\n",
        "#      |||||\n",
        "s= 'viva o python' # 13 vezes\n",
        "for ch in s[3:8]:\n",
        "  i+=1\n",
        "  print ('Oi', i)"
      ],
      "metadata": {
        "id": "RpAJ8wxtV_tk"
      },
      "execution_count": null,
      "outputs": []
    },
    {
      "cell_type": "code",
      "source": [
        "#pedir 10 número e contar quanto são pares e impares56\n",
        "num = 0\n",
        "numero = 0\n",
        "par = 0\n",
        "impar = 0\n",
        "while numero < 10:\n",
        "  num = int (input('Digite um número: '))\n",
        "  numero +=1\n",
        "  resto = num % 2\n",
        "  if (resto == 0):\n",
        "     par +=1\n",
        "  else:\n",
        "    impar +=1\n",
        "\n",
        "\n",
        "print ('TOTAIS DE ', 'pares:', par, 'impares', impar)"
      ],
      "metadata": {
        "id": "cQqZG7YZWwxo"
      },
      "execution_count": null,
      "outputs": []
    },
    {
      "cell_type": "code",
      "source": [
        "par = 0\n",
        "impar = 0\n",
        "for n in range(10):\n",
        "  n = int (input('Digite um número: '))\n",
        "  resto = n % 2\n",
        "  if (resto == 0):\n",
        "     par +=1\n",
        "  else:\n",
        "    impar +=1\n",
        "\n",
        "\n",
        "print ('TOTAIS DE ', 'pares:', par, 'impares', impar)   "
      ],
      "metadata": {
        "id": "86WB0f1nX96J"
      },
      "execution_count": null,
      "outputs": []
    },
    {
      "cell_type": "code",
      "source": [
        "#Convite para festa pet\n",
        "for nome in ['reginaldo', 'Gisele', 'Scoob', 'Marlene', 'Zezinho', 'Cibele']:\n",
        "    convite = ('Oi ' +  nome + '! Por favor, venha para o sábado pet em minha casa!')\n",
        "    print (convite)"
      ],
      "metadata": {
        "id": "ErnkGMmadDAY"
      },
      "execution_count": null,
      "outputs": []
    },
    {
      "cell_type": "code",
      "source": [],
      "metadata": {
        "id": "zdv7FPl8eShR"
      },
      "execution_count": null,
      "outputs": []
    }
  ]
}