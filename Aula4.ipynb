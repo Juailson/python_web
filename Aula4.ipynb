{
  "nbformat": 4,
  "nbformat_minor": 0,
  "metadata": {
    "colab": {
      "provenance": [],
      "authorship_tag": "ABX9TyPBYE44ZGyIQIHSxMBDmLN6",
      "include_colab_link": true
    },
    "kernelspec": {
      "name": "python3",
      "display_name": "Python 3"
    },
    "language_info": {
      "name": "python"
    }
  },
  "cells": [
    {
      "cell_type": "markdown",
      "metadata": {
        "id": "view-in-github",
        "colab_type": "text"
      },
      "source": [
        "<a href=\"https://colab.research.google.com/github/Juailson/python_web/blob/main/Aula4.ipynb\" target=\"_parent\"><img src=\"https://colab.research.google.com/assets/colab-badge.svg\" alt=\"Open In Colab\"/></a>"
      ]
    },
    {
      "cell_type": "code",
      "execution_count": 3,
      "metadata": {
        "colab": {
          "base_uri": "https://localhost:8080/"
        },
        "id": "ZdcnuUWuM5sY",
        "outputId": "72261473-2bea-4b8e-8d7e-c50dfe7b02e6"
      },
      "outputs": [
        {
          "output_type": "stream",
          "name": "stdout",
          "text": [
            "Estamos no elemento 1\n",
            "Estamos no elemento 2\n",
            "Estamos no elemento 3\n",
            "Estamos no elemento 4\n",
            "Estamos no elemento 5\n",
            "Estamos no elemento 6\n"
          ]
        }
      ],
      "source": [
        "for elemento in [1,2,3,4,5,6]:\n",
        "  print (\"Estamos no elemento\", elemento)"
      ]
    },
    {
      "cell_type": "code",
      "source": [],
      "metadata": {
        "id": "b9owz9KBNOsn"
      },
      "execution_count": null,
      "outputs": []
    }
  ]
}