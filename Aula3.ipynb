{
  "cells": [
    {
      "cell_type": "markdown",
      "metadata": {
        "id": "view-in-github",
        "colab_type": "text"
      },
      "source": [
        "<a href=\"https://colab.research.google.com/github/Juailson/python_web/blob/main/Aula3.ipynb\" target=\"_parent\"><img src=\"https://colab.research.google.com/assets/colab-badge.svg\" alt=\"Open In Colab\"/></a>"
      ]
    },
    {
      "cell_type": "code",
      "execution_count": null,
      "metadata": {
        "colab": {
          "base_uri": "https://localhost:8080/"
        },
        "id": "sO7KtaSj3dpP",
        "outputId": "0d787622-b44d-4502-9565-cce3f1e9278c"
      },
      "outputs": [
        {
          "output_type": "stream",
          "name": "stdout",
          "text": [
            "3\n",
            "1\n"
          ]
        }
      ],
      "source": [
        "#<<< JUAILSON AULA 3 >>>\n",
        "'''\n",
        "listas\n",
        "dicionários(maps)\n",
        "'''\n",
        "#LISTAS\n",
        "dias = [3,1,10]\n",
        "dias[0]\n",
        "print (dias[0])\n",
        "print (dias[1])\n"
      ]
    },
    {
      "cell_type": "code",
      "execution_count": null,
      "metadata": {
        "colab": {
          "base_uri": "https://localhost:8080/"
        },
        "id": "29EBeHHU4TS7",
        "outputId": "b6b26152-9c57-4335-f265-0f737994f155"
      },
      "outputs": [
        {
          "output_type": "execute_result",
          "data": {
            "text/plain": [
              "[7, 8, 9]"
            ]
          },
          "metadata": {},
          "execution_count": 2
        }
      ],
      "source": [
        "Z = [3,8,9]\n",
        "Z[0]= 7\n",
        "Z\n"
      ]
    },
    {
      "cell_type": "code",
      "execution_count": null,
      "metadata": {
        "id": "GLZmCGuu5VO8",
        "colab": {
          "base_uri": "https://localhost:8080/"
        },
        "outputId": "dd63938d-134b-4d05-e925-b2dc98c2ce60"
      },
      "outputs": [
        {
          "output_type": "stream",
          "name": "stdout",
          "text": [
            "True\n",
            "False\n",
            "[81, 82, 83]\n",
            "[5, 82, 83]\n"
          ]
        }
      ],
      "source": [
        "a = [81,82,83]\n",
        "b= a[:]\n",
        "print (a==b)\n",
        "print (a is b)   # a é b\n",
        "b[0]= 5\n",
        "print (a)\n",
        "print (b)\n"
      ]
    },
    {
      "cell_type": "code",
      "execution_count": null,
      "metadata": {
        "colab": {
          "base_uri": "https://localhost:8080/"
        },
        "id": "tKQCrqPc46On",
        "outputId": "1b6428a8-8a39-4cbe-f331-53adae4274e1"
      },
      "outputs": [
        {
          "output_type": "stream",
          "name": "stdout",
          "text": [
            "['b', 'c']\n",
            "['a', 'b', 'c', 'd']\n",
            "['d', 'e', 'f']\n",
            "['a', 'b', 'c', 'd', 'e', 'f']\n"
          ]
        }
      ],
      "source": [
        "uma_lista=['a','b','c','d','e','f']\n",
        "print  (uma_lista[1:3])\n",
        "print  (uma_lista[:4])\n",
        "print  (uma_lista[3:])\n",
        "print  (uma_lista[:])\n",
        "\n"
      ]
    },
    {
      "cell_type": "code",
      "source": [
        "#2----\n"
      ],
      "metadata": {
        "id": "6KL8lItk-l2n"
      },
      "execution_count": null,
      "outputs": []
    },
    {
      "cell_type": "code",
      "source": [
        "#3 - exercício\n",
        "#O que é impresso\n",
        "uma_lista = [4,2,8,6,5]\n",
        "uma_lista = uma_lista + [\"Cibele\"]\n",
        "print (uma_lista)"
      ],
      "metadata": {
        "colab": {
          "base_uri": "https://localhost:8080/"
        },
        "id": "Dp9y-Ylj-qc-",
        "outputId": "0ed9e4cc-239e-4fa9-dbd6-85785aac27b4"
      },
      "execution_count": null,
      "outputs": [
        {
          "output_type": "stream",
          "name": "stdout",
          "text": [
            "[4, 2, 8, 6, 5, 'Cibele']\n"
          ]
        }
      ]
    },
    {
      "cell_type": "code",
      "source": [
        "uma_lista = uma_lista + [\"Cibele\"]\n",
        "print (uma_lista)\n"
      ],
      "metadata": {
        "colab": {
          "base_uri": "https://localhost:8080/"
        },
        "id": "i3iqAhCv_ubX",
        "outputId": "930701a2-7d91-48d6-db61-93131932bcfa"
      },
      "execution_count": null,
      "outputs": [
        {
          "output_type": "stream",
          "name": "stdout",
          "text": [
            "[4, 2, 8, 6, 5, 'Cibele', 'Cibele']\n"
          ]
        }
      ]
    },
    {
      "cell_type": "code",
      "source": [
        "print (uma_lista[5])\n"
      ],
      "metadata": {
        "colab": {
          "base_uri": "https://localhost:8080/"
        },
        "id": "GdtRyJ_r_I4F",
        "outputId": "11493d46-0592-4699-c907-052e473bf101"
      },
      "execution_count": null,
      "outputs": [
        {
          "output_type": "stream",
          "name": "stdout",
          "text": [
            "Cibele\n"
          ]
        }
      ]
    },
    {
      "cell_type": "code",
      "source": [],
      "metadata": {
        "id": "rjjOiKrU_ryP"
      },
      "execution_count": null,
      "outputs": []
    },
    {
      "cell_type": "code",
      "source": [
        "type (uma_lista)"
      ],
      "metadata": {
        "colab": {
          "base_uri": "https://localhost:8080/"
        },
        "id": "AG4hNV7D_gZ_",
        "outputId": "b702273e-6eaf-4679-954d-2a844bf38fd5"
      },
      "execution_count": null,
      "outputs": [
        {
          "output_type": "execute_result",
          "data": {
            "text/plain": [
              "list"
            ]
          },
          "metadata": {},
          "execution_count": 9
        }
      ]
    },
    {
      "cell_type": "code",
      "source": [
        "# >>>>>>>>>>>>>CRIANDO TUPLAS  não permite alteração <<<<<<<<<<\n",
        "tupla_numeros = (10,20,30)\n",
        "print (tupla_numeros)\n"
      ],
      "metadata": {
        "colab": {
          "base_uri": "https://localhost:8080/"
        },
        "id": "VnIIufL9AIt3",
        "outputId": "8b5c3264-0498-4b2e-8a0d-faa9e538f4cd"
      },
      "execution_count": null,
      "outputs": [
        {
          "output_type": "stream",
          "name": "stdout",
          "text": [
            "(10, 20, 30)\n"
          ]
        }
      ]
    },
    {
      "cell_type": "code",
      "source": [
        "tupla_nova = 10,20,30\n",
        "tupla_nova\n",
        "#print (tupla_nova)"
      ],
      "metadata": {
        "colab": {
          "base_uri": "https://localhost:8080/"
        },
        "id": "WbCJyXhSAZ3Q",
        "outputId": "43d0529d-01e6-4d46-d818-0a804868efb4"
      },
      "execution_count": null,
      "outputs": [
        {
          "output_type": "execute_result",
          "data": {
            "text/plain": [
              "(10, 20, 30)"
            ]
          },
          "metadata": {},
          "execution_count": 11
        }
      ]
    },
    {
      "cell_type": "code",
      "source": [
        "tupla_elemento = 10,\n",
        "tupla_elemento\n"
      ],
      "metadata": {
        "colab": {
          "base_uri": "https://localhost:8080/"
        },
        "id": "Hz7PP6kIAqsf",
        "outputId": "21902f1a-27ec-47f9-b8f5-14c1224e2604"
      },
      "execution_count": null,
      "outputs": [
        {
          "output_type": "execute_result",
          "data": {
            "text/plain": [
              "(10,)"
            ]
          },
          "metadata": {},
          "execution_count": 12
        }
      ]
    },
    {
      "cell_type": "code",
      "source": [
        "tupla_elemento = 11\n",
        "tupla_elemento"
      ],
      "metadata": {
        "colab": {
          "base_uri": "https://localhost:8080/"
        },
        "id": "xk4-36OZA_yi",
        "outputId": "87128bb2-5034-4221-a365-42a5057ee9d5"
      },
      "execution_count": null,
      "outputs": [
        {
          "output_type": "execute_result",
          "data": {
            "text/plain": [
              "11"
            ]
          },
          "metadata": {},
          "execution_count": 13
        }
      ]
    },
    {
      "cell_type": "code",
      "source": [
        "#FUNÇÃO TUPLE -- transforma o string em uma tupla\n",
        "nova_tupla = tuple('teste')\n",
        "nova_tupla\n"
      ],
      "metadata": {
        "colab": {
          "base_uri": "https://localhost:8080/"
        },
        "id": "713nt9N7BFdU",
        "outputId": "e09c679f-eb6a-48a5-dbdb-a3251914c879"
      },
      "execution_count": null,
      "outputs": [
        {
          "output_type": "execute_result",
          "data": {
            "text/plain": [
              "('t', 'e', 's', 't', 'e')"
            ]
          },
          "metadata": {},
          "execution_count": 14
        }
      ]
    },
    {
      "cell_type": "code",
      "source": [
        "#Contando elemento com count\n",
        "tupla_nomes = ('jose', 'maria')\n",
        "tupla_nomes.count('maria')\n",
        "print (tupla_nomes.count('joao'))"
      ],
      "metadata": {
        "colab": {
          "base_uri": "https://localhost:8080/"
        },
        "id": "Z92J0G9SBdAJ",
        "outputId": "9380a633-1f8a-4b6f-8ebe-e0b57f65f215"
      },
      "execution_count": null,
      "outputs": [
        {
          "output_type": "stream",
          "name": "stdout",
          "text": [
            "0\n"
          ]
        }
      ]
    },
    {
      "cell_type": "code",
      "source": [
        "#d Praticar Tuplas\n",
        "'''\n",
        "Cria uma tupla 1,2,2,2,4,4,4,5  quantas vezes tem o 4\n",
        "'''\n",
        "tupla_numerica = (1,2,2,2,4,4,4,5)\n",
        "print (tupla_numerica.count(4))\n",
        "\n"
      ],
      "metadata": {
        "colab": {
          "base_uri": "https://localhost:8080/"
        },
        "id": "Ms81QBB5B08P",
        "outputId": "a124e95e-de2e-469a-a986-2468d6796a3c"
      },
      "execution_count": null,
      "outputs": [
        {
          "output_type": "stream",
          "name": "stdout",
          "text": [
            "3\n"
          ]
        }
      ]
    },
    {
      "cell_type": "code",
      "source": [
        "#Dicionário\n",
        "dicio = {'chave': 'valor'}\n",
        "print (type(dicio))\n",
        "         "
      ],
      "metadata": {
        "colab": {
          "base_uri": "https://localhost:8080/"
        },
        "id": "ikQwG5SjC_P9",
        "outputId": "5494ac3a-8cb9-4b87-8dc8-46ca3b2110bb"
      },
      "execution_count": null,
      "outputs": [
        {
          "output_type": "stream",
          "name": "stdout",
          "text": [
            "<class 'dict'>\n"
          ]
        }
      ]
    },
    {
      "cell_type": "code",
      "source": [
        "d={'laranjas': 15, 'bananas:': 35, 'siriguela': 12}\n",
        "#d['siringuela'] ...tem que executa em outra celula\n",
        "\n",
        "\n"
      ],
      "metadata": {
        "id": "mLwdYz1LDrpW"
      },
      "execution_count": null,
      "outputs": []
    },
    {
      "cell_type": "code",
      "source": [
        "d['bananas:']"
      ],
      "metadata": {
        "colab": {
          "base_uri": "https://localhost:8080/"
        },
        "id": "1qauFJJaEiKn",
        "outputId": "65d176be-1c7e-41ea-bc4f-92984927494e"
      },
      "execution_count": null,
      "outputs": [
        {
          "output_type": "execute_result",
          "data": {
            "text/plain": [
              "35"
            ]
          },
          "metadata": {},
          "execution_count": 27
        }
      ]
    },
    {
      "cell_type": "code",
      "source": [
        "del d['laranjas']"
      ],
      "metadata": {
        "id": "otAjwDdmFiZ-"
      },
      "execution_count": null,
      "outputs": []
    },
    {
      "cell_type": "code",
      "source": [
        "'laranjas' in d"
      ],
      "metadata": {
        "colab": {
          "base_uri": "https://localhost:8080/"
        },
        "id": "v4xoE8j1FoEM",
        "outputId": "6d598b9f-c8b3-4762-8ea7-8badae585c98"
      },
      "execution_count": null,
      "outputs": [
        {
          "output_type": "execute_result",
          "data": {
            "text/plain": [
              "False"
            ]
          },
          "metadata": {},
          "execution_count": 32
        }
      ]
    },
    {
      "cell_type": "code",
      "source": [
        "d['pitomba'] = 20\n",
        " \n"
      ],
      "metadata": {
        "id": "EY6ZdLUnGWOn"
      },
      "execution_count": null,
      "outputs": []
    },
    {
      "cell_type": "code",
      "source": [
        "#Concatenção\n",
        "frutas = ['pinha', 'oiti coró', 'jaca', 'tamarindo']\n"
      ],
      "metadata": {
        "id": "Uo0rYoi8GhRm"
      },
      "execution_count": null,
      "outputs": []
    },
    {
      "cell_type": "code",
      "source": [
        "print ([1, 2] + [3, 4])"
      ],
      "metadata": {
        "colab": {
          "base_uri": "https://localhost:8080/"
        },
        "id": "ezYXwASSGi53",
        "outputId": "5e26835f-5ded-48dd-faa8-301c9ed252cc"
      },
      "execution_count": null,
      "outputs": [
        {
          "output_type": "stream",
          "name": "stdout",
          "text": [
            "[1, 2, 3, 4]\n"
          ]
        }
      ]
    },
    {
      "cell_type": "code",
      "source": [
        "print (frutas + [6,7,8,9])"
      ],
      "metadata": {
        "colab": {
          "base_uri": "https://localhost:8080/"
        },
        "id": "mxT_EMx9G_qc",
        "outputId": "760ec249-4158-42d1-d678-ee3147de6702"
      },
      "execution_count": null,
      "outputs": [
        {
          "output_type": "stream",
          "name": "stdout",
          "text": [
            "['pinha', 'oiti coró', 'jaca', 'tamarindo', 6, 7, 8, 9]\n"
          ]
        }
      ]
    },
    {
      "cell_type": "code",
      "source": [
        "print ([0] * 4)"
      ],
      "metadata": {
        "colab": {
          "base_uri": "https://localhost:8080/"
        },
        "id": "r2WFwGOLHnkZ",
        "outputId": "6356beb5-063e-4a88-8f30-62bf92195be5"
      },
      "execution_count": null,
      "outputs": [
        {
          "output_type": "stream",
          "name": "stdout",
          "text": [
            "[0, 0, 0, 0]\n"
          ]
        }
      ]
    },
    {
      "cell_type": "code",
      "source": [
        "#METODOS\n",
        "#.append\n",
        "\n",
        "minha_lista = []\n",
        "\n"
      ],
      "metadata": {
        "id": "LeelqeaiHzt-"
      },
      "execution_count": null,
      "outputs": []
    },
    {
      "cell_type": "code",
      "source": [
        "minha_lista.append(5)"
      ],
      "metadata": {
        "id": "uuSuhtD8IgGg"
      },
      "execution_count": null,
      "outputs": []
    },
    {
      "cell_type": "code",
      "source": [
        "print (minha_lista)"
      ],
      "metadata": {
        "colab": {
          "base_uri": "https://localhost:8080/"
        },
        "id": "o2v93bhZI4KO",
        "outputId": "05a0b142-3c55-4661-fbe1-5667f28e7040"
      },
      "execution_count": null,
      "outputs": [
        {
          "output_type": "stream",
          "name": "stdout",
          "text": [
            "[5]\n"
          ]
        }
      ]
    },
    {
      "cell_type": "code",
      "source": [
        "minha_lista.append(27)\n",
        "minha_lista.append(3)"
      ],
      "metadata": {
        "id": "m7JqLswUJD6y"
      },
      "execution_count": null,
      "outputs": []
    },
    {
      "cell_type": "code",
      "source": [
        "minha_lista.insert(1,12)   # como 12 na segunda posiçao - array com ZERO\n"
      ],
      "metadata": {
        "id": "wJ51tDBlJLpT"
      },
      "execution_count": null,
      "outputs": []
    },
    {
      "cell_type": "code",
      "source": [
        "print (minha_lista)"
      ],
      "metadata": {
        "colab": {
          "base_uri": "https://localhost:8080/"
        },
        "id": "gvwTy15cJky2",
        "outputId": "0cc47c0b-6a9b-4a3e-b804-3322e3114b86"
      },
      "execution_count": null,
      "outputs": [
        {
          "output_type": "stream",
          "name": "stdout",
          "text": [
            "[5, 12, 12, 12, 27, 3]\n"
          ]
        }
      ]
    },
    {
      "cell_type": "code",
      "source": [
        "print (minha_lista.count(12))"
      ],
      "metadata": {
        "colab": {
          "base_uri": "https://localhost:8080/"
        },
        "id": "2cRX62l_Jo3z",
        "outputId": "e1f70c1b-b6b6-4263-f257-bccc194d8c3e"
      },
      "execution_count": null,
      "outputs": [
        {
          "output_type": "stream",
          "name": "stdout",
          "text": [
            "3\n"
          ]
        }
      ]
    },
    {
      "cell_type": "code",
      "source": [
        "minha_lista.reverse()\n",
        "  \n"
      ],
      "metadata": {
        "id": "gvpE5Pr2KCYU"
      },
      "execution_count": null,
      "outputs": []
    },
    {
      "cell_type": "code",
      "source": [
        "print(minha_lista)"
      ],
      "metadata": {
        "colab": {
          "base_uri": "https://localhost:8080/"
        },
        "id": "mbx4o7w6KSJJ",
        "outputId": "939e6ff0-15e6-4f16-a82b-5a36bb02e1dc"
      },
      "execution_count": null,
      "outputs": [
        {
          "output_type": "stream",
          "name": "stdout",
          "text": [
            "[3, 27, 12, 12, 12, 5]\n"
          ]
        }
      ]
    },
    {
      "cell_type": "code",
      "source": [
        "minha_lista.sort() #ordenar a lista\n"
      ],
      "metadata": {
        "id": "8WLPZB1RKVN2"
      },
      "execution_count": null,
      "outputs": []
    },
    {
      "cell_type": "code",
      "source": [
        "print (minha_lista)"
      ],
      "metadata": {
        "colab": {
          "base_uri": "https://localhost:8080/"
        },
        "id": "clB2aj0pKh49",
        "outputId": "03fb32a4-ca25-4218-a149-0b5987cccc7c"
      },
      "execution_count": null,
      "outputs": [
        {
          "output_type": "stream",
          "name": "stdout",
          "text": [
            "[3, 12, 12, 12, 27]\n"
          ]
        }
      ]
    },
    {
      "cell_type": "code",
      "source": [
        "minha_lista.remove(5)"
      ],
      "metadata": {
        "id": "pXnj06F-KlBp"
      },
      "execution_count": null,
      "outputs": []
    },
    {
      "cell_type": "code",
      "source": [
        "print(minha_lista)"
      ],
      "metadata": {
        "colab": {
          "base_uri": "https://localhost:8080/"
        },
        "id": "KE5JNVzjKzL_",
        "outputId": "edfcbcec-0899-46df-d3d9-84eec07f0b86"
      },
      "execution_count": null,
      "outputs": [
        {
          "output_type": "stream",
          "name": "stdout",
          "text": [
            "[3, 12, 12, 12, 27]\n"
          ]
        }
      ]
    },
    {
      "cell_type": "code",
      "source": [
        "ultimo_item = minha_lista.pop() # mostra o último item comando POP "
      ],
      "metadata": {
        "id": "t4GOPUUAK5HI"
      },
      "execution_count": null,
      "outputs": []
    },
    {
      "cell_type": "code",
      "source": [
        "print(ultimo_item)"
      ],
      "metadata": {
        "colab": {
          "base_uri": "https://localhost:8080/"
        },
        "id": "yZR9AwthLkFR",
        "outputId": "6401fe60-5566-4222-fae8-dc9ad8d6acb0"
      },
      "execution_count": null,
      "outputs": [
        {
          "output_type": "stream",
          "name": "stdout",
          "text": [
            "27\n"
          ]
        }
      ]
    },
    {
      "cell_type": "code",
      "source": [
        "print (minha_lista)"
      ],
      "metadata": {
        "colab": {
          "base_uri": "https://localhost:8080/"
        },
        "id": "RqN5UKDvLmWO",
        "outputId": "20c2f462-ac08-46e8-ce40-be0ff786ccf6"
      },
      "execution_count": null,
      "outputs": [
        {
          "output_type": "stream",
          "name": "stdout",
          "text": [
            "[3, 12, 12, 12]\n"
          ]
        }
      ]
    },
    {
      "cell_type": "code",
      "source": [
        "s= 'Python'\n",
        "  "
      ],
      "metadata": {
        "id": "L-8yF3dALxUX"
      },
      "execution_count": null,
      "outputs": []
    },
    {
      "cell_type": "code",
      "source": [
        "s[len(s)-1] # 6 carectere é a posição 5  to array"
      ],
      "metadata": {
        "colab": {
          "base_uri": "https://localhost:8080/",
          "height": 36
        },
        "id": "L5Eg2aqrMpLu",
        "outputId": "e9be7284-df70-42bd-a195-2f275e86b067"
      },
      "execution_count": null,
      "outputs": [
        {
          "output_type": "execute_result",
          "data": {
            "text/plain": [
              "'n'"
            ],
            "application/vnd.google.colaboratory.intrinsic+json": {
              "type": "string"
            }
          },
          "metadata": {},
          "execution_count": 78
        }
      ]
    },
    {
      "cell_type": "code",
      "source": [
        "s=\"ABCDEFGG\"\n"
      ],
      "metadata": {
        "id": "NbICKhWTMr7H"
      },
      "execution_count": null,
      "outputs": []
    },
    {
      "cell_type": "code",
      "source": [
        "s[0:2]"
      ],
      "metadata": {
        "colab": {
          "base_uri": "https://localhost:8080/",
          "height": 36
        },
        "id": "w_5KSsBXNU5A",
        "outputId": "f7f680ed-b9e5-4d79-9b6a-23bf863cd577"
      },
      "execution_count": null,
      "outputs": [
        {
          "output_type": "execute_result",
          "data": {
            "text/plain": [
              "'AB'"
            ],
            "application/vnd.google.colaboratory.intrinsic+json": {
              "type": "string"
            }
          },
          "metadata": {},
          "execution_count": 86
        }
      ]
    },
    {
      "cell_type": "code",
      "source": [
        "s[1:5:2] # começou segunda posição e va de dois em dois - PASO"
      ],
      "metadata": {
        "colab": {
          "base_uri": "https://localhost:8080/",
          "height": 36
        },
        "id": "dle7r7zSNYGi",
        "outputId": "120e6b1e-d275-4f6d-d6d7-096c3d27f87e"
      },
      "execution_count": null,
      "outputs": [
        {
          "output_type": "execute_result",
          "data": {
            "text/plain": [
              "'BD'"
            ],
            "application/vnd.google.colaboratory.intrinsic+json": {
              "type": "string"
            }
          },
          "metadata": {},
          "execution_count": 87
        }
      ]
    },
    {
      "cell_type": "code",
      "source": [
        "#FATIAMENTO"
      ],
      "metadata": {
        "id": "RWlK-Xx4N5d9"
      },
      "execution_count": null,
      "outputs": []
    },
    {
      "cell_type": "code",
      "source": [
        "s[-1:]  #inveersamente"
      ],
      "metadata": {
        "colab": {
          "base_uri": "https://localhost:8080/",
          "height": 36
        },
        "id": "mb-KA55TOybW",
        "outputId": "ad2d3b49-aedb-4b55-b3af-32eca8abeb84"
      },
      "execution_count": null,
      "outputs": [
        {
          "output_type": "execute_result",
          "data": {
            "text/plain": [
              "'G'"
            ],
            "application/vnd.google.colaboratory.intrinsic+json": {
              "type": "string"
            }
          },
          "metadata": {},
          "execution_count": 88
        }
      ]
    },
    {
      "cell_type": "code",
      "source": [
        "s[0:-2]#s[:-2]"
      ],
      "metadata": {
        "colab": {
          "base_uri": "https://localhost:8080/",
          "height": 36
        },
        "id": "h-7byQ9vO1zX",
        "outputId": "8051e99e-c718-4743-d44d-53d889ca79be"
      },
      "execution_count": null,
      "outputs": [
        {
          "output_type": "execute_result",
          "data": {
            "text/plain": [
              "'ABCDEF'"
            ],
            "application/vnd.google.colaboratory.intrinsic+json": {
              "type": "string"
            }
          },
          "metadata": {},
          "execution_count": 89
        }
      ]
    },
    {
      "cell_type": "code",
      "source": [
        "s[-1:-4:-1]  # s=\"ABCDEFGG\" - -1 = G"
      ],
      "metadata": {
        "colab": {
          "base_uri": "https://localhost:8080/",
          "height": 36
        },
        "id": "4rWVQPiOPF2L",
        "outputId": "2b805b73-e1e2-4765-d6fb-114f12222013"
      },
      "execution_count": null,
      "outputs": [
        {
          "output_type": "execute_result",
          "data": {
            "text/plain": [
              "'GGF'"
            ],
            "application/vnd.google.colaboratory.intrinsic+json": {
              "type": "string"
            }
          },
          "metadata": {},
          "execution_count": 90
        }
      ]
    },
    {
      "cell_type": "code",
      "source": [
        "linguagem_preferida = \"Python\""
      ],
      "metadata": {
        "id": "4YibvYh5PoL-"
      },
      "execution_count": null,
      "outputs": []
    },
    {
      "cell_type": "code",
      "source": [
        "\"P\" in linguagem_preferida"
      ],
      "metadata": {
        "colab": {
          "base_uri": "https://localhost:8080/"
        },
        "id": "JQB1alwyQMdF",
        "outputId": "1c3d87dc-e461-4cf7-8173-857343e16ce9"
      },
      "execution_count": null,
      "outputs": [
        {
          "output_type": "execute_result",
          "data": {
            "text/plain": [
              "True"
            ]
          },
          "metadata": {},
          "execution_count": 93
        }
      ]
    },
    {
      "cell_type": "code",
      "source": [
        "#METODOS\n",
        "\"python\".upper()"
      ],
      "metadata": {
        "colab": {
          "base_uri": "https://localhost:8080/",
          "height": 36
        },
        "id": "S1xmvKF4QQ8p",
        "outputId": "7d33daa1-f815-425a-a23a-31753d4b51be"
      },
      "execution_count": null,
      "outputs": [
        {
          "output_type": "execute_result",
          "data": {
            "text/plain": [
              "'PYTHON'"
            ],
            "application/vnd.google.colaboratory.intrinsic+json": {
              "type": "string"
            }
          },
          "metadata": {},
          "execution_count": 94
        }
      ]
    },
    {
      "cell_type": "code",
      "source": [
        "verdade = \"python é legal\""
      ],
      "metadata": {
        "id": "1O6JpeO2QqNL"
      },
      "execution_count": null,
      "outputs": []
    },
    {
      "cell_type": "code",
      "source": [
        "\"python\".title()  #primeira maiúscula"
      ],
      "metadata": {
        "colab": {
          "base_uri": "https://localhost:8080/",
          "height": 36
        },
        "id": "afssYuV_QvC0",
        "outputId": "802c4eb4-cef6-4ab3-a216-722c8de1caf3"
      },
      "execution_count": null,
      "outputs": [
        {
          "output_type": "execute_result",
          "data": {
            "text/plain": [
              "'Python'"
            ],
            "application/vnd.google.colaboratory.intrinsic+json": {
              "type": "string"
            }
          },
          "metadata": {},
          "execution_count": 96
        }
      ]
    },
    {
      "cell_type": "code",
      "source": [
        "\"_\".join(verdade.split()) # trocou espaço por..."
      ],
      "metadata": {
        "colab": {
          "base_uri": "https://localhost:8080/",
          "height": 36
        },
        "id": "mA-avkH4QznR",
        "outputId": "08c64168-5367-4039-a044-e6054e108758"
      },
      "execution_count": null,
      "outputs": [
        {
          "output_type": "execute_result",
          "data": {
            "text/plain": [
              "'python_é_legal'"
            ],
            "application/vnd.google.colaboratory.intrinsic+json": {
              "type": "string"
            }
          },
          "metadata": {},
          "execution_count": 103
        }
      ]
    },
    {
      "cell_type": "code",
      "source": [
        "\"python é lega\".split()"
      ],
      "metadata": {
        "colab": {
          "base_uri": "https://localhost:8080/"
        },
        "id": "7VmCLBpeQ7nn",
        "outputId": "acb84d14-aa33-4363-9877-4a768da7db67"
      },
      "execution_count": null,
      "outputs": [
        {
          "output_type": "execute_result",
          "data": {
            "text/plain": [
              "['python', 'é', 'lega']"
            ]
          },
          "metadata": {},
          "execution_count": 101
        }
      ]
    },
    {
      "cell_type": "code",
      "source": [
        "linguagem_preferida = \"Python\""
      ],
      "metadata": {
        "id": "PGCLemc_RJjv"
      },
      "execution_count": null,
      "outputs": []
    },
    {
      "cell_type": "code",
      "source": [
        "print (\"Eu amo %s\" % (linguagem_preferida))"
      ],
      "metadata": {
        "colab": {
          "base_uri": "https://localhost:8080/"
        },
        "id": "yHfbuNYpR4u0",
        "outputId": "b08a21ba-3bef-4515-dce4-ffa6b781bd97"
      },
      "execution_count": null,
      "outputs": [
        {
          "output_type": "stream",
          "name": "stdout",
          "text": [
            "Eu amo Python\n"
          ]
        }
      ]
    },
    {
      "cell_type": "code",
      "source": [
        "print (\"Eu tenho %d anos\"  % (18))"
      ],
      "metadata": {
        "colab": {
          "base_uri": "https://localhost:8080/"
        },
        "id": "Te8xm_QzSKvB",
        "outputId": "0dfec6e8-e511-475e-f5f6-f447bed3c91d"
      },
      "execution_count": null,
      "outputs": [
        {
          "output_type": "stream",
          "name": "stdout",
          "text": [
            "Eu tenho 18 anos\n"
          ]
        }
      ]
    },
    {
      "cell_type": "code",
      "source": [
        "print (\"Eu tenho %02d anos de idade\" % (9))"
      ],
      "metadata": {
        "colab": {
          "base_uri": "https://localhost:8080/"
        },
        "id": "ChURuGO8Se7T",
        "outputId": "1d2c8b99-0c81-4b95-ff10-06f299aff0a9"
      },
      "execution_count": null,
      "outputs": [
        {
          "output_type": "stream",
          "name": "stdout",
          "text": [
            "Eu tenho 09 anos de idade\n"
          ]
        }
      ]
    },
    {
      "cell_type": "code",
      "source": [
        "#Desafio\n",
        "#mostrar nome de trás para\n",
        "meu_nome = input(\"Digite seu nome:\")\n",
        "  "
      ],
      "metadata": {
        "colab": {
          "base_uri": "https://localhost:8080/"
        },
        "id": "RmWxo0SASsAe",
        "outputId": "7646e9f2-e5b0-4819-dde4-1ef33434e257"
      },
      "execution_count": null,
      "outputs": [
        {
          "name": "stdout",
          "output_type": "stream",
          "text": [
            "Digite seu nome:JUAILSON\n"
          ]
        }
      ]
    },
    {
      "cell_type": "code",
      "source": [
        "meu_nome_list = list(meu_nome)\n",
        "meu_nome_list.reverse()\n",
        "print (meu_nome_list)\n",
        "print (\"\".join(meu_nome_list)) # JOIN troca a , por qualquer coisa"
      ],
      "metadata": {
        "id": "3y_ZUMs5TmSl",
        "colab": {
          "base_uri": "https://localhost:8080/"
        },
        "outputId": "6ff028bd-fff7-41e7-de28-5c9756305acd"
      },
      "execution_count": null,
      "outputs": [
        {
          "output_type": "stream",
          "name": "stdout",
          "text": [
            "['N', 'O', 'S', 'L', 'I', 'A', 'U', 'J']\n",
            "NOSLIAUJ\n"
          ]
        }
      ]
    },
    {
      "cell_type": "code",
      "source": [
        "print (meu_nome_list)"
      ],
      "metadata": {
        "colab": {
          "base_uri": "https://localhost:8080/"
        },
        "id": "9EHCkg9cTrhW",
        "outputId": "537fece2-4cf3-4eb6-91dd-c223be6a64cf"
      },
      "execution_count": null,
      "outputs": [
        {
          "output_type": "stream",
          "name": "stdout",
          "text": [
            "['n', 'o', 's', 'l', 'i', 'a', 'u', 'j']\n"
          ]
        }
      ]
    },
    {
      "cell_type": "code",
      "source": [
        "#OUTRA FORMA MOSTRADA PELA CAMILA\n",
        "nome = list(input('Digite seu nome: ').upper())\n",
        "nome.reverse()\n",
        "print(''.join(nome))"
      ],
      "metadata": {
        "colab": {
          "base_uri": "https://localhost:8080/"
        },
        "id": "jvo6dx_aEtRq",
        "outputId": "42ee2846-4fda-4fd9-ff21-ab19512aa76f"
      },
      "execution_count": null,
      "outputs": [
        {
          "output_type": "stream",
          "name": "stdout",
          "text": [
            "Digite seu nome: FONSECA\n",
            "ACESNOF\n"
          ]
        }
      ]
    },
    {
      "cell_type": "code",
      "source": [
        "#RANGE \n",
        "#gerando um sequencia  de 0 a 9\n",
        "print(list(range(10)))"
      ],
      "metadata": {
        "colab": {
          "base_uri": "https://localhost:8080/"
        },
        "id": "V0Pl2BCeUziB",
        "outputId": "c8cf2050-faf4-47f3-d409-860b3df55c6a"
      },
      "execution_count": null,
      "outputs": [
        {
          "output_type": "stream",
          "name": "stdout",
          "text": [
            "[0, 1, 2, 3, 4, 5, 6, 7, 8, 9]\n"
          ]
        }
      ]
    },
    {
      "cell_type": "code",
      "source": [
        "print(list(range(1,11)))"
      ],
      "metadata": {
        "colab": {
          "base_uri": "https://localhost:8080/"
        },
        "id": "NxbCAg4tWRtA",
        "outputId": "0da0d125-4e93-4802-cf97-56d5c03122c4"
      },
      "execution_count": null,
      "outputs": [
        {
          "output_type": "stream",
          "name": "stdout",
          "text": [
            "[1, 2, 3, 4, 5, 6, 7, 8, 9, 10]\n"
          ]
        }
      ]
    },
    {
      "cell_type": "code",
      "source": [
        "print(list(range(0, 30,5))) # pulando de 5 em 5 - step"
      ],
      "metadata": {
        "colab": {
          "base_uri": "https://localhost:8080/"
        },
        "id": "WrIkTSI8Wed_",
        "outputId": "4e5b0e11-d057-4e25-bac2-e9668dc525d8"
      },
      "execution_count": null,
      "outputs": [
        {
          "output_type": "stream",
          "name": "stdout",
          "text": [
            "[0, 5, 10, 15, 20, 25]\n"
          ]
        }
      ]
    },
    {
      "cell_type": "code",
      "source": [
        "print(list(range(0, -10, -1))) # começa em -10 e step de -1 em -1"
      ],
      "metadata": {
        "colab": {
          "base_uri": "https://localhost:8080/"
        },
        "id": "47QtK8gtWkwO",
        "outputId": "ced7ceb1-b290-4d6b-8377-574661a41df8"
      },
      "execution_count": null,
      "outputs": [
        {
          "output_type": "stream",
          "name": "stdout",
          "text": [
            "[0, -1, -2, -3, -4, -5, -6, -7, -8, -9]\n"
          ]
        }
      ]
    },
    {
      "cell_type": "code",
      "source": [
        "print (s[-1])"
      ],
      "metadata": {
        "colab": {
          "base_uri": "https://localhost:8080/"
        },
        "id": "QFsdu-oyW_YA",
        "outputId": "31d43fda-1027-476d-9094-1e20ed84e284"
      },
      "execution_count": null,
      "outputs": [
        {
          "output_type": "stream",
          "name": "stdout",
          "text": [
            "G\n"
          ]
        }
      ]
    },
    {
      "cell_type": "code",
      "source": [
        "#fatiamento de um String   \n",
        "s=\"PYTHON\"\n",
        "#regra: s[strar,stop, step]\n",
        "print (\"aqui:\", s[-1:- (len(s)+1):-1])   # INVERTEU O NOME\n",
        "print (s[0:2])\n",
        "print (s[:2])\n",
        " "
      ],
      "metadata": {
        "colab": {
          "base_uri": "https://localhost:8080/"
        },
        "id": "2FguTIkzZ5IM",
        "outputId": "a038802b-b4b5-420a-ae6c-9dbb9834c65c"
      },
      "execution_count": null,
      "outputs": [
        {
          "output_type": "stream",
          "name": "stdout",
          "text": [
            "aqui: NOHTYP\n",
            "PY\n",
            "PY\n"
          ]
        }
      ]
    },
    {
      "cell_type": "code",
      "source": [
        "#pertinencia de su-string\n",
        "print (\"P\" in s)"
      ],
      "metadata": {
        "colab": {
          "base_uri": "https://localhost:8080/"
        },
        "id": "WS0cyqt1aioZ",
        "outputId": "501e3f5f-27f1-47b5-8b3f-206b26161ce7"
      },
      "execution_count": null,
      "outputs": [
        {
          "output_type": "stream",
          "name": "stdout",
          "text": [
            "True\n"
          ]
        }
      ]
    },
    {
      "cell_type": "code",
      "source": [
        "print (\"p\" in s)"
      ],
      "metadata": {
        "colab": {
          "base_uri": "https://localhost:8080/"
        },
        "id": "S_7tYUnbbniR",
        "outputId": "07ab0dd0-1d87-4fbd-ef25-4a4f9111709a"
      },
      "execution_count": null,
      "outputs": [
        {
          "output_type": "stream",
          "name": "stdout",
          "text": [
            "False\n"
          ]
        }
      ]
    },
    {
      "cell_type": "code",
      "source": [
        "print (s.lower())"
      ],
      "metadata": {
        "colab": {
          "base_uri": "https://localhost:8080/"
        },
        "id": "PMDARAs5bsh-",
        "outputId": "c8311410-2b81-4610-e3dc-610c5b63861e"
      },
      "execution_count": null,
      "outputs": [
        {
          "output_type": "stream",
          "name": "stdout",
          "text": [
            "python\n"
          ]
        }
      ]
    },
    {
      "cell_type": "code",
      "source": [
        "print (\"python no SENAC!\".title())"
      ],
      "metadata": {
        "colab": {
          "base_uri": "https://localhost:8080/"
        },
        "id": "-Lmoc9rPbwYL",
        "outputId": "0b823da5-9119-4059-9f6a-7a8b024702e0"
      },
      "execution_count": null,
      "outputs": [
        {
          "output_type": "stream",
          "name": "stdout",
          "text": [
            "Python No Senac!\n"
          ]
        }
      ]
    },
    {
      "cell_type": "code",
      "source": [
        "frase = \"python é massa!\"\n"
      ],
      "metadata": {
        "id": "-3P6HfjHcOit"
      },
      "execution_count": null,
      "outputs": []
    },
    {
      "cell_type": "code",
      "source": [
        "teste = (\"?\".join(frase))"
      ],
      "metadata": {
        "id": "dvWnwePXcXiz"
      },
      "execution_count": null,
      "outputs": []
    },
    {
      "cell_type": "code",
      "source": [
        "print (teste)"
      ],
      "metadata": {
        "colab": {
          "base_uri": "https://localhost:8080/"
        },
        "id": "N46tIonnci5U",
        "outputId": "d5e1d275-fc88-44f8-dd81-f73dc1b9b3ba"
      },
      "execution_count": null,
      "outputs": [
        {
          "output_type": "stream",
          "name": "stdout",
          "text": [
            "p?y?t?h?o?n? ?é? ?m?a?s?s?a?!\n"
          ]
        }
      ]
    },
    {
      "cell_type": "code",
      "source": [
        "print(frase.split(\"e \")) # o splic sem argumento usa espaço como quebra\n"
      ],
      "metadata": {
        "colab": {
          "base_uri": "https://localhost:8080/"
        },
        "id": "f3Zu5zlXckQ1",
        "outputId": "22768be9-83bb-4515-d76b-fade387e00dd"
      },
      "execution_count": null,
      "outputs": [
        {
          "output_type": "stream",
          "name": "stdout",
          "text": [
            "['python é massa!']\n"
          ]
        }
      ]
    },
    {
      "cell_type": "code",
      "source": [
        "#interpolação\n",
        "print (\"Pra mim %s\" %(frase))"
      ],
      "metadata": {
        "colab": {
          "base_uri": "https://localhost:8080/"
        },
        "id": "GnAxU_SRcrxx",
        "outputId": "7694db7c-13ce-4958-8ba8-43f4ac8f41f4"
      },
      "execution_count": null,
      "outputs": [
        {
          "output_type": "stream",
          "name": "stdout",
          "text": [
            "Pra mim python é massa!\n"
          ]
        }
      ]
    },
    {
      "cell_type": "code",
      "source": [
        "print (\"Funcionário cod %03d\" %(1))"
      ],
      "metadata": {
        "colab": {
          "base_uri": "https://localhost:8080/"
        },
        "id": "1JNsQPwwdbXh",
        "outputId": "9c6abc0c-4c39-4f48-be5b-592c272b6a74"
      },
      "execution_count": null,
      "outputs": [
        {
          "output_type": "stream",
          "name": "stdout",
          "text": [
            "Funcionário cod 001\n"
          ]
        }
      ]
    },
    {
      "cell_type": "code",
      "source": [
        "#TESTANDO O github\n",
        "print ('Github')"
      ],
      "metadata": {
        "id": "62gsNldads9W",
        "colab": {
          "base_uri": "https://localhost:8080/"
        },
        "outputId": "936162ef-7c90-4dbc-931c-a9dc2c81127f"
      },
      "execution_count": 1,
      "outputs": [
        {
          "output_type": "stream",
          "name": "stdout",
          "text": [
            "Github\n"
          ]
        }
      ]
    },
    {
      "cell_type": "code",
      "source": [],
      "metadata": {
        "id": "2728AluEKvaf"
      },
      "execution_count": null,
      "outputs": []
    }
  ],
  "metadata": {
    "colab": {
      "provenance": [],
      "authorship_tag": "ABX9TyPHoUHKlikTVHIjlanQaECD",
      "include_colab_link": true
    },
    "kernelspec": {
      "display_name": "Python 3",
      "name": "python3"
    },
    "language_info": {
      "name": "python"
    }
  },
  "nbformat": 4,
  "nbformat_minor": 0
}